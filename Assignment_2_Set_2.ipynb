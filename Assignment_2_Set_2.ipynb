{
 "cells": [
  {
   "cell_type": "code",
   "execution_count": 1,
   "id": "0f6971dc-62b1-49b7-8edf-60b3b6bbccad",
   "metadata": {},
   "outputs": [],
   "source": [
    "import pandas as pd\n",
    "import numpy as np\n",
    "import matplotlib.pyplot as plt\n",
    "import scipy.stats as stats\n",
    "import seaborn as sns\n",
    "import statsmodels.api as smf\n",
    "import warnings\n",
    "warnings.filterwarnings('ignore')"
   ]
  },
  {
   "cell_type": "markdown",
   "id": "bd5d7634",
   "metadata": {},
   "source": [
    "# SET 2 "
   ]
  },
  {
   "cell_type": "markdown",
   "id": "7c0de463",
   "metadata": {},
   "source": [
    "### Question 1"
   ]
  },
  {
   "cell_type": "markdown",
   "id": "42310685",
   "metadata": {},
   "source": [
    "The time required for servicing transmissions is normally distributed with mew = 45 minutes and std = 8 minutes.\n",
    "\n",
    "The servicing will began after 10min of drop off i.e it will take more time than the usual time so the new mew is 45+10=55min.\n",
    "\n",
    "What is the probability that it will take more than 1 hour to complete."
   ]
  },
  {
   "cell_type": "code",
   "execution_count": 3,
   "id": "1e759092",
   "metadata": {},
   "outputs": [
    {
     "name": "stdout",
     "output_type": "stream",
     "text": [
      "The probability that the service manager cannot meet his \n",
      "      commitment is 0.266\n"
     ]
    }
   ],
   "source": [
    "mew = 55\n",
    "std = 8\n",
    "q1 = stats.norm.sf(60, loc=mew, scale=std)\n",
    "print(\"\"\"The probability that the service manager cannot meet his \n",
    "      commitment is\"\"\",np.round(q1,4))"
   ]
  },
  {
   "cell_type": "markdown",
   "id": "12ad6f47",
   "metadata": {},
   "source": [
    "### Question 2"
   ]
  },
  {
   "cell_type": "markdown",
   "id": "2e85905b-8459-4d73-8682-8ee52d97a0fd",
   "metadata": {},
   "source": [
    "The current age (in years) of 400 clerical employees at an insurance claims processing center is normally distributed with mean  = 38 and Standard deviation  =6. For each statement below, please specify True/False. If false, briefly explain why.\n",
    "\n",
    "A)More employees at the processing center are older than 44 than between 38 and 44.\n",
    "\n",
    "B)A training program for employees under the age of 30 at the center would be expected to attract about 36 employees."
   ]
  },
  {
   "cell_type": "code",
   "execution_count": 25,
   "id": "8f5b983f",
   "metadata": {},
   "outputs": [
    {
     "name": "stdout",
     "output_type": "stream",
     "text": [
      "The probability of employee age betweeen 38 and 44 is 34.13 %\n",
      "The probability of employee age more than 44 is 15.87 %\n",
      "Answer: False\n",
      "A training program for employees under the age of 30 at the center would be expected to attract about 36.0 employees\n"
     ]
    }
   ],
   "source": [
    "mean = 38\n",
    "std1 = 6\n",
    "\n",
    "q2_less_than_38 = stats.norm.cdf(38, loc = mean, scale = std1)\n",
    "q2_less_than_44 = stats.norm.cdf(44, loc = mean, scale = std1)\n",
    "\n",
    "q2_between_38_and_44 = (q2_less_than_44 - q2_less_than_38)\n",
    "print('The probability of employee age betweeen 38 and 44 is',np.round(q2_between_38_and_44*100,2),'%')\n",
    "\n",
    "q2_more_than_44 = 1-stats.norm.cdf(44, loc = mean, scale = std1)\n",
    "print('The probability of employee age more than 44 is', np.round(q2_more_than_44*100,2),'%')\n",
    "\n",
    "true_or_false = (q2_more_than_44 > q2_between_38_and_44)\n",
    "print('Answer:',true_or_false)\n",
    "\n",
    "q2b = stats.norm.cdf(30, loc = mean, scale = std1)\n",
    "print(\"\"\"A training program for employees under the age of 30 at the center would be expected to attract about\"\"\"\n",
    "      ,np.round((q2b*400),0),'employees')"
   ]
  },
  {
   "cell_type": "markdown",
   "id": "bedc61c2-e866-41d7-9beb-487a14a14ddb",
   "metadata": {},
   "source": [
    "### Question 4"
   ]
  },
  {
   "cell_type": "markdown",
   "id": "b37b1f87-5fba-47cb-aabd-241597f14b15",
   "metadata": {
    "tags": []
   },
   "source": [
    "##### Let X ~ N(100, 20^2). Find two values, a and b, symmetric about the mean, such that the probability of the random variable taking a value between them is 0.99."
   ]
  },
  {
   "cell_type": "markdown",
   "id": "0e44c5af-2203-4fef-bcfc-c3ea113ae4b2",
   "metadata": {},
   "source": [
    "A)90.5, 105.9\n",
    "B)80.2, 119.8\n",
    "C)22, 78\n",
    "D)48.5, 151.5\n",
    "E)90.1, 109.9"
   ]
  },
  {
   "cell_type": "code",
   "execution_count": 2,
   "id": "6a982229-0c88-4a34-a25e-300a9fb34cde",
   "metadata": {},
   "outputs": [
    {
     "name": "stdout",
     "output_type": "stream",
     "text": [
      "The two values of a and b, symmetric about the mean, \n",
      "      are such that the probability of the random variable \n",
      "      taking a value between them is 0.99: 48.5 151.5\n"
     ]
    }
   ],
   "source": [
    "mew = 100\n",
    "std = 20\n",
    "# To find -\n",
    "\"\"\" two values, a and b, symmetric about the mean, such that the \n",
    "probability of the random variable taking a value between them is 0.99\"\"\"\n",
    "# Solution - \n",
    "\"\"\" From the above details,we have to exclude .005% area from each\n",
    "left and right tails. Hence, we want to find the .005th and the \n",
    ".995th percentiles Z score values\"\"\"\n",
    "\n",
    "# Z value for .005 percentiles\n",
    "z_005 = np.round(stats.norm.ppf(0.005),4)\n",
    "z_005\n",
    "\n",
    "# Z value for .99 percentiles\n",
    "z_99 = np.round(stats.norm.ppf(0.995),4)\n",
    "z_99\n",
    "\n",
    "#z = (x_bar - mew) / std\n",
    "#x_bar = (z*std) + mew\n",
    "a = np.round((z_005*std) + mew,1)\n",
    "b = np.round((z_99*std) + mew,1)\n",
    "print(\"\"\"The two values of a and b, symmetric about the mean, \n",
    "      are such that the probability of the random variable \n",
    "      taking a value between them is 0.99:\"\"\",a,b)\n"
   ]
  },
  {
   "cell_type": "markdown",
   "id": "2ecc9d58-5106-4f5c-901e-fe6250056f69",
   "metadata": {},
   "source": [
    "## Or Simply"
   ]
  },
  {
   "cell_type": "code",
   "execution_count": 3,
   "id": "7970e3eb-f98e-4425-ac9c-9ea184b3a839",
   "metadata": {},
   "outputs": [
    {
     "name": "stdout",
     "output_type": "stream",
     "text": [
      "The two values of a and b, symmetric about the mean, \n",
      "      are such that the probability of the random variable \n",
      "      taking a value between them is 0.99: [ 48.5 151.5]\n"
     ]
    }
   ],
   "source": [
    "print(\"\"\"The two values of a and b, symmetric about the mean, \n",
    "      are such that the probability of the random variable \n",
    "      taking a value between them is 0.99:\"\"\",np.round(stats.norm.interval(0.99, loc = 100, scale = 20),1))"
   ]
  },
  {
   "cell_type": "markdown",
   "id": "f3c4c375-eea7-4279-8cee-c977ea35ccf0",
   "metadata": {},
   "source": [
    "## Question 5"
   ]
  },
  {
   "cell_type": "markdown",
   "id": "f1971552-7c7b-46a1-9bc6-d3454a7262e8",
   "metadata": {},
   "source": [
    "Consider a company that has two different divisions. The annual profits from the two divisions are independent and have distributions Profit1 ~ N(5, 3^2) and Profit2 ~ N(7, 4^2) respectively. Both the profits are in USD Million. Answer the following questions about the total profit of the company in Rupees. Assume that 1USD = Rs. 45"
   ]
  },
  {
   "cell_type": "markdown",
   "id": "69f16c1a-32cf-4bbd-86cd-b47146f26713",
   "metadata": {},
   "source": [
    "A) Specify a Rupee range (centered on the mean) such that it contains 95% probability for the annual profit of the company.\n",
    "\n",
    "B) Specify the 5th percentile of profit (in Rupees) for the company\n",
    "\n",
    "c) Which of the two divisions has a larger probability of making a loss in a given year?"
   ]
  },
  {
   "cell_type": "code",
   "execution_count": 13,
   "id": "fe4a07fc-7869-4062-a3d9-d4dde2b7f58d",
   "metadata": {},
   "outputs": [
    {
     "name": "stdout",
     "output_type": "stream",
     "text": [
      "The Mean Profit of both division: 12 Million$\n",
      "The Mean Profit of both division: 54.0 Crore Rupees\n",
      "The Standard Deviation of both division: 5.0 Million$\n",
      "The Standard Deviation of both division: 22.5 Crore Rupees\n"
     ]
    }
   ],
   "source": [
    "# Combine Mean Profit of both division for Company= mean1 + mean2\n",
    "mean1 = 5\n",
    "mean2 = 7\n",
    "Mean = (mean1+mean2) # 1 USD = 45 rupees\n",
    "print('The Mean Profit of both division:',Mean, 'Million$')\n",
    "print('The Mean Profit of both division:',(Mean*45)/10, 'Crore Rupees')\n",
    "\n",
    "# Combine standard Deviation = sqrt(Std1^2 + Std^2)\n",
    "std1 = 3**2\n",
    "std2 = 4**2\n",
    "Std = np.sqrt(std1 + std2)\n",
    "print(\"The Standard Deviation of both division:\", Std,\"Million$\")\n",
    "print(\"The Standard Deviation of both division:\", (Std*45)/10,\"Crore Rupees\")"
   ]
  },
  {
   "cell_type": "markdown",
   "id": "3451a1c9-5ac0-4aa8-b685-f4dbf13335b0",
   "metadata": {},
   "source": [
    "A) Specify a Rupee range (centered on the mean) such that it contains 95% probability for the annual profit of the company."
   ]
  },
  {
   "cell_type": "code",
   "execution_count": 20,
   "id": "d24a19d4-315f-42ce-a1b5-f21db961704b",
   "metadata": {},
   "outputs": [
    {
     "name": "stdout",
     "output_type": "stream",
     "text": [
      "Rupee Ranges from 2.2 to 21.8 Million$ in Annual profit of the Company 95% of the time\n",
      "Rupee Ranges from 9.9 to 98.1 Crore Rupees in Annual profit of the Company 95% of time\n"
     ]
    }
   ],
   "source": [
    "r1, r2 = np.round(stats.norm.interval(0.95, Mean, Std),2)\n",
    "print('Rupee Ranges from',r1,'to',r2,'Million$ in Annual profit of the Company 95% of the time')\n",
    "print('Rupee Ranges from',np.round((r1*45)/10,1),'to',(r2*45)/10,'Crore Rupees in Annual profit of the Company 95% of time')"
   ]
  },
  {
   "cell_type": "markdown",
   "id": "9c360869-9173-467c-b781-9154809b2e97",
   "metadata": {},
   "source": [
    "B) Specify the 5th percentile of profit (in Rupees) for the company"
   ]
  },
  {
   "cell_type": "code",
   "execution_count": 27,
   "id": "b6af3475-36bd-4dbe-808c-0a4aef5a1dde",
   "metadata": {},
   "outputs": [
    {
     "name": "stdout",
     "output_type": "stream",
     "text": [
      "The 5th percentile of Profit for the company is 3.78 Million$\n",
      "The 5th percentile of Profit for the company is 17.0 Crore Rupees\n"
     ]
    }
   ],
   "source": [
    "# Z value  = (X_bar - Mew) / Std pop \n",
    "# for percentile, X_percentile = (Zvalue * Std pop) + Mew\n",
    "Z_05 = stats.norm.ppf(0.05)\n",
    "fifth_percentile = (Z_05 * Std) + Mean\n",
    "print('The 5th percentile of Profit for the company is',np.round(fifth_percentile,2),'Million$')\n",
    "print('The 5th percentile of Profit for the company is',np.round((fifth_percentile*45)/10,),'Crore Rupees')"
   ]
  },
  {
   "cell_type": "markdown",
   "id": "6870a77a-0322-4929-b221-ffc3782de42d",
   "metadata": {},
   "source": [
    "C. Which of the two divisions has a larger probability of making a loss in a given year?"
   ]
  },
  {
   "cell_type": "code",
   "execution_count": 30,
   "id": "02217b18-3fac-42ed-8d64-5ab1ec632a81",
   "metadata": {},
   "outputs": [
    {
     "name": "stdout",
     "output_type": "stream",
     "text": [
      "The Probability of Division #1 making a loss is 4.78 %\n",
      "The Probability of Division #1 making a loss is 4.01 %\n",
      "The Division 1 has a larger Probability of making a loss\n"
     ]
    }
   ],
   "source": [
    "Division_1 = (stats.norm.cdf(0,5,3))*100\n",
    "Division_2 = (stats.norm.cdf(0,7,4))*100\n",
    "\n",
    "print('The Probability of Division #1 making a loss is',np.round(Division_1,2),'%')\n",
    "print('The Probability of Division #1 making a loss is',np.round(Division_2,2),'%')\n",
    "\n",
    "if Division_1 > Division_2:\n",
    "    print('The Division 1 has a larger Probability of making a loss')\n",
    "else:\n",
    "    print('The Division 2 has a larger Porbability of making a loss')"
   ]
  }
 ],
 "metadata": {
  "kernelspec": {
   "display_name": "Python 3 (ipykernel)",
   "language": "python",
   "name": "python3"
  },
  "language_info": {
   "codemirror_mode": {
    "name": "ipython",
    "version": 3
   },
   "file_extension": ".py",
   "mimetype": "text/x-python",
   "name": "python",
   "nbconvert_exporter": "python",
   "pygments_lexer": "ipython3",
   "version": "3.9.12"
  }
 },
 "nbformat": 4,
 "nbformat_minor": 5
}
